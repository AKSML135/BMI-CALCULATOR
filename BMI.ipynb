{
 "cells": [
  {
   "cell_type": "code",
   "execution_count": null,
   "metadata": {},
   "outputs": [],
   "source": [
    "name=input(\"ENTER YOUR NAME: \")\n",
    "height=int(input(\"ENTER YOUR HEIGHT: \"))\n",
    "weight=int(input(\"ENTER YOUR WEIGHT: \"))\n",
    "BMI=weight*10000/(height*height)\n",
    "print(\"YOUR BMI IS : \", BMI)\n",
    "if BMI<25:\n",
    "    print(\"MOTU NAHI HAI TUM \", name)\n",
    "else:\n",
    "    print(\"MOTU HAI TUM\", name)\n",
    "    \n",
    "input(\"press enter to exit\")\n"
   ]
  },
  {
   "cell_type": "code",
   "execution_count": null,
   "metadata": {},
   "outputs": [],
   "source": []
  }
 ],
 "metadata": {
  "kernelspec": {
   "display_name": "Python 3",
   "language": "python",
   "name": "python3"
  },
  "language_info": {
   "codemirror_mode": {
    "name": "ipython",
    "version": 3
   },
   "file_extension": ".py",
   "mimetype": "text/x-python",
   "name": "python",
   "nbconvert_exporter": "python",
   "pygments_lexer": "ipython3",
   "version": "3.6.5"
  }
 },
 "nbformat": 4,
 "nbformat_minor": 2
}
